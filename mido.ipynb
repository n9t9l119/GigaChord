{
 "cells": [
  {
   "cell_type": "code",
   "execution_count": 14,
   "id": "cf54e3d0",
   "metadata": {
    "scrolled": true
   },
   "outputs": [
    {
     "name": "stdout",
     "output_type": "stream",
     "text": [
      "Collecting package metadata (current_repodata.json): ...working... done\n",
      "Solving environment: ...working... failed with initial frozen solve. Retrying with flexible solve.\n",
      "Collecting package metadata (repodata.json): ...working... done\n",
      "Solving environment: ...working... failed with initial frozen solve. Retrying with flexible solve.\n"
     ]
    },
    {
     "name": "stderr",
     "output_type": "stream",
     "text": [
      "\n",
      "PackagesNotFoundError: The following packages are not available from current channels:\n",
      "\n",
      "  - mido\n",
      "\n",
      "Current channels:\n",
      "\n",
      "  - https://conda.anaconda.org/roebel/win-64\n",
      "  - https://conda.anaconda.org/roebel/noarch\n",
      "  - https://repo.anaconda.com/pkgs/main/win-64\n",
      "  - https://repo.anaconda.com/pkgs/main/noarch\n",
      "  - https://repo.anaconda.com/pkgs/r/win-64\n",
      "  - https://repo.anaconda.com/pkgs/r/noarch\n",
      "  - https://repo.anaconda.com/pkgs/msys2/win-64\n",
      "  - https://repo.anaconda.com/pkgs/msys2/noarch\n",
      "\n",
      "To search for alternate channels that may provide the conda package you're\n",
      "looking for, navigate to\n",
      "\n",
      "    https://anaconda.org\n",
      "\n",
      "and use the search bar at the top of the page.\n",
      "\n",
      "\n"
     ]
    }
   ],
   "source": [
    "!conda install -c roebel mido"
   ]
  },
  {
   "cell_type": "code",
   "execution_count": 6,
   "id": "7dfe7b58",
   "metadata": {},
   "outputs": [
    {
     "name": "stdout",
     "output_type": "stream",
     "text": [
      "Python 3.9.16\n"
     ]
    }
   ],
   "source": [
    "!python -V"
   ]
  },
  {
   "cell_type": "code",
   "execution_count": 12,
   "id": "e091ffce",
   "metadata": {},
   "outputs": [
    {
     "name": "stdout",
     "output_type": "stream",
     "text": [
      "Collecting mido\n",
      "  Downloading mido-1.2.10-py2.py3-none-any.whl (51 kB)\n",
      "     -------------------------------------- 51.1/51.1 kB 869.2 kB/s eta 0:00:00\n",
      "Installing collected packages: mido\n",
      "Successfully installed mido-1.2.10\n"
     ]
    }
   ],
   "source": [
    "!pip install mido"
   ]
  },
  {
   "cell_type": "markdown",
   "id": "553fdfe0",
   "metadata": {},
   "source": [
    "#"
   ]
  },
  {
   "cell_type": "code",
   "execution_count": 324,
   "id": "e67cb733",
   "metadata": {},
   "outputs": [],
   "source": [
    "import mido\n",
    "import json\n",
    "import copy\n",
    "import random\n"
   ]
  },
  {
   "cell_type": "markdown",
   "id": "9aded4b1",
   "metadata": {},
   "source": [
    "Перевод MIDI в JSON.\n",
    "# длительности на данный момент постоянные"
   ]
  },
  {
   "cell_type": "code",
   "execution_count": 325,
   "id": "349f6c10",
   "metadata": {},
   "outputs": [],
   "source": [
    "def mid_to_json(mid):\n",
    "    temp=[]\n",
    "    new_data={'res':{}}\n",
    "    new_data.get('res')['notes']=[]\n",
    "    for i in mid.tracks[0]:\n",
    "        if i.type=='note_on':\n",
    "            new_data.get('res')['notes'].append({'on':i.note})\n",
    "        elif i.type=='sysex':\n",
    "            new_data.get('res')['notes'].append({'sysex':i.time}) \n",
    "        elif i.type=='note_off':\n",
    "            new_data.get('res')['notes'].append({'off':i.note})\n",
    "    return(new_data)"
   ]
  },
  {
   "cell_type": "code",
   "execution_count": 322,
   "id": "e2081deb",
   "metadata": {},
   "outputs": [],
   "source": [
    "def mid_to_json2(mid):\n",
    "    temp=[]\n",
    "    new_data={'res':{}}\n",
    "    new_data.get('res')['notes']=[]\n",
    "    notes_time=[]\n",
    "    for i in mid.tracks[0]:\n",
    "        if i.type=='note_on':\n",
    "            if i.note not in [j[0] for j in notes_time]:\n",
    "                notes_time.append([i.note,0])\n",
    "        elif i.type=='sysex':\n",
    "            for j in range(len(notes_time)):\n",
    "                notes_time[j][1]=notes_time[j][1]+i.time\n",
    "        elif i.type=='note_off':\n",
    "            for j in range(len(notes_time)):\n",
    "                if notes_time[j][0] == i.note:\n",
    "                    if notes_time[j][1]:\n",
    "                        for k in range(len(notes_time)):\n",
    "                            if k!=j:\n",
    "                                notes_time[k][1]=notes_time[k][1]-notes_time[j][1]\n",
    "                        new_data.get('res')['notes'].append(notes_time.pop(j))\n",
    "                    else:\n",
    "                        a=new_data.get('res')['notes'][-1][0]\n",
    "                        if type(new_data.get('res')['notes'][-1][0])==int:\n",
    "                            a=[new_data.get('res')['notes'][-1][0]].copy()\n",
    "                        new_data.get('res')['notes'][-1][0] = a.append(notes_time.pop(j)[0])\n",
    "                    break\n",
    "        print(notes_time)\n",
    "    return(new_data)"
   ]
  },
  {
   "cell_type": "markdown",
   "id": "f7d5449b",
   "metadata": {},
   "source": [
    "Входной JSON: notes - ноты, chords - аккорды, emotion - настроение"
   ]
  },
  {
   "cell_type": "code",
   "execution_count": 176,
   "id": "477690ab",
   "metadata": {},
   "outputs": [],
   "source": [
    "json_string = \"\"\"\n",
    "{\n",
    "    \"res\": {\n",
    "        \"notes\": [\n",
    "            [60,500],\n",
    "            [60,500],\n",
    "            [67,500],\n",
    "            [67,500],\n",
    "            [69,500],\n",
    "            [69,500],\n",
    "            [67,1000],\n",
    "            [65,500],\n",
    "            [65,500],\n",
    "            [64,500],\n",
    "            [64,500],\n",
    "            [62,500],\n",
    "            [62,500],\n",
    "            [60,500]\n",
    "        ],\n",
    "        \"chords\": [\n",
    "            [[36,40,43,47],500],\n",
    "            [[38,42,45,49],500]\n",
    "        ],\n",
    "        \"emotion\": \"scary\"\n",
    "    }\n",
    "}\n",
    "\"\"\"\n",
    " \n",
    "data = json.loads(json_string)"
   ]
  },
  {
   "cell_type": "code",
   "execution_count": 327,
   "id": "29b5c1a3",
   "metadata": {},
   "outputs": [],
   "source": [
    "json_string = \"\"\"\n",
    "{\n",
    "    \"res\": {\n",
    "        \"notes\": [\n",
    "            {\"on\": 60},\n",
    "            {\"sysex\": 500},\n",
    "            {\"off\": 60},\n",
    "            {\"on\": 60},\n",
    "            {\"sysex\": 500},\n",
    "            {\"off\": 60},\n",
    "            {\"on\": 67},\n",
    "            {\"sysex\": 500},\n",
    "            {\"off\": 67},\n",
    "            {\"on\": 67},\n",
    "            {\"sysex\": 500},\n",
    "            {\"off\": 67},\n",
    "            {\"on\": 69},\n",
    "            {\"sysex\": 500},\n",
    "            {\"off\": 69},\n",
    "            {\"on\": 69},\n",
    "            {\"sysex\": 500},\n",
    "            {\"off\": 69},\n",
    "            {\"on\": 67},\n",
    "            {\"sysex\": 1000},\n",
    "            {\"off\": 67},\n",
    "            {\"on\": 65},\n",
    "            {\"sysex\": 500},\n",
    "            {\"off\": 65},\n",
    "            {\"on\": 65},\n",
    "            {\"sysex\": 500},\n",
    "            {\"off\": 65},\n",
    "            {\"on\": 64},\n",
    "            {\"sysex\": 500},\n",
    "            {\"off\": 64},\n",
    "            {\"on\": 64},\n",
    "            {\"sysex\": 500},\n",
    "            {\"off\": 64},\n",
    "            {\"on\": 62},\n",
    "            {\"sysex\": 500},\n",
    "            {\"off\": 62},\n",
    "            {\"on\": 62},\n",
    "            {\"sysex\": 500},\n",
    "            {\"off\": 62},\n",
    "            {\"on\": 60},\n",
    "            {\"sysex\": 500},\n",
    "            {\"off\": 60}\n",
    "        ],\n",
    "        \"chords\": [\n",
    "            {\"on\": 36},\n",
    "            {\"on\": 40},\n",
    "            {\"on\": 43},\n",
    "            {\"on\": 47},\n",
    "            {\"sysex\": 500},\n",
    "            {\"off\": 36},\n",
    "            {\"off\": 40},\n",
    "            {\"off\": 43},\n",
    "            {\"off\": 47},\n",
    "            {\"on\": 38},\n",
    "            {\"on\": 42},\n",
    "            {\"on\": 45},\n",
    "            {\"on\": 49},\n",
    "            {\"sysex\": 500},\n",
    "            {\"off\": 38},\n",
    "            {\"off\": 42},\n",
    "            {\"off\": 45},\n",
    "            {\"off\": 49}\n",
    "        ],\n",
    "        \"emotion\": \"scary\"\n",
    "    }\n",
    "}\n",
    "\"\"\"\n",
    " \n",
    "data2 = json.loads(json_string)"
   ]
  },
  {
   "cell_type": "code",
   "execution_count": 328,
   "id": "9ec354a4",
   "metadata": {
    "scrolled": true
   },
   "outputs": [
    {
     "data": {
      "text/plain": [
       "[[60, 500],\n",
       " [60, 500],\n",
       " [67, 500],\n",
       " [67, 500],\n",
       " [69, 500],\n",
       " [69, 500],\n",
       " [67, 1000],\n",
       " [65, 500],\n",
       " [65, 500],\n",
       " [64, 500],\n",
       " [64, 500],\n",
       " [62, 500],\n",
       " [62, 500],\n",
       " [60, 500]]"
      ]
     },
     "execution_count": 328,
     "metadata": {},
     "output_type": "execute_result"
    }
   ],
   "source": [
    "data.get('res').get('notes')"
   ]
  },
  {
   "cell_type": "code",
   "execution_count": 329,
   "id": "362eb643",
   "metadata": {},
   "outputs": [
    {
     "data": {
      "text/plain": [
       "[{'on': 60},\n",
       " {'sysex': 500},\n",
       " {'off': 60},\n",
       " {'on': 60},\n",
       " {'sysex': 500},\n",
       " {'off': 60},\n",
       " {'on': 67},\n",
       " {'sysex': 500},\n",
       " {'off': 67},\n",
       " {'on': 67},\n",
       " {'sysex': 500},\n",
       " {'off': 67},\n",
       " {'on': 69},\n",
       " {'sysex': 500},\n",
       " {'off': 69},\n",
       " {'on': 69},\n",
       " {'sysex': 500},\n",
       " {'off': 69},\n",
       " {'on': 67},\n",
       " {'sysex': 1000},\n",
       " {'off': 67},\n",
       " {'on': 65},\n",
       " {'sysex': 500},\n",
       " {'off': 65},\n",
       " {'on': 65},\n",
       " {'sysex': 500},\n",
       " {'off': 65},\n",
       " {'on': 64},\n",
       " {'sysex': 500},\n",
       " {'off': 64},\n",
       " {'on': 64},\n",
       " {'sysex': 500},\n",
       " {'off': 64},\n",
       " {'on': 62},\n",
       " {'sysex': 500},\n",
       " {'off': 62},\n",
       " {'on': 62},\n",
       " {'sysex': 500},\n",
       " {'off': 62},\n",
       " {'on': 60},\n",
       " {'sysex': 500},\n",
       " {'off': 60}]"
      ]
     },
     "execution_count": 329,
     "metadata": {},
     "output_type": "execute_result"
    }
   ],
   "source": [
    "data2.get('res').get('notes')"
   ]
  },
  {
   "cell_type": "markdown",
   "id": "377832c5",
   "metadata": {},
   "source": [
    "Для того чтобы ноты не отжимались мгновенно, нужно задать time (в случае нажимания и отпускания нескольких клавиш одновременно, мы применяли системное сообщение с параметром time между циклами из нажатия и отпускания клавиш)"
   ]
  },
  {
   "cell_type": "code",
   "execution_count": 330,
   "id": "0bb14523",
   "metadata": {},
   "outputs": [
    {
     "name": "stdout",
     "output_type": "stream",
     "text": [
      "[]\n",
      "[[60, 0]]\n",
      "[[60, 500]]\n",
      "[]\n",
      "[[60, 0]]\n",
      "[[60, 500]]\n",
      "[]\n",
      "[[67, 0]]\n",
      "[[67, 500]]\n",
      "[]\n",
      "[[67, 0]]\n",
      "[[67, 500]]\n",
      "[]\n",
      "[[69, 0]]\n",
      "[[69, 500]]\n",
      "[]\n",
      "[[69, 0]]\n",
      "[[69, 500]]\n",
      "[]\n",
      "[[67, 0]]\n",
      "[[67, 1000]]\n",
      "[]\n",
      "[[65, 0]]\n",
      "[[65, 500]]\n",
      "[]\n",
      "[[65, 0]]\n",
      "[[65, 500]]\n",
      "[]\n",
      "[[64, 0]]\n",
      "[[64, 500]]\n",
      "[]\n",
      "[[64, 0]]\n",
      "[[64, 500]]\n",
      "[]\n",
      "[[62, 0]]\n",
      "[[62, 500]]\n",
      "[]\n",
      "[[62, 0]]\n",
      "[[62, 500]]\n",
      "[]\n",
      "[[60, 0]]\n",
      "[[60, 500]]\n",
      "[]\n"
     ]
    },
    {
     "data": {
      "text/plain": [
       "{'res': {'notes': [[60, 500],\n",
       "   [60, 500],\n",
       "   [67, 500],\n",
       "   [67, 500],\n",
       "   [69, 500],\n",
       "   [69, 500],\n",
       "   [67, 1000],\n",
       "   [65, 500],\n",
       "   [65, 500],\n",
       "   [64, 500],\n",
       "   [64, 500],\n",
       "   [62, 500],\n",
       "   [62, 500],\n",
       "   [60, 500]]}}"
      ]
     },
     "execution_count": 330,
     "metadata": {},
     "output_type": "execute_result"
    }
   ],
   "source": [
    "mid = mido.MidiFile()\n",
    "track = mido.MidiTrack()\n",
    "mid.tracks.append(track)\n",
    "\n",
    "track.append(mido.Message('program_change', program=12, time=0))\n",
    "j=-1\n",
    "for i in data2.get('res').get('notes'):\n",
    "    if i.get('on'):\n",
    "        track.append(mido.Message('note_on', note=i.get('on')))\n",
    "    if i.get('sysex'):\n",
    "        track.append(mido.Message('sysex', time=i.get('sysex')))\n",
    "    if i.get('off'):\n",
    "        track.append(mido.Message('note_off', note=i.get('off')))\n",
    "\n",
    "mid.save('new_song.mid')\n",
    "mid_to_json2(mid)"
   ]
  },
  {
   "cell_type": "code",
   "execution_count": 331,
   "id": "6b334004",
   "metadata": {},
   "outputs": [
    {
     "data": {
      "text/plain": [
       "{'res': {'notes': [{'on': 60},\n",
       "   {'sysex': 500},\n",
       "   {'off': 60},\n",
       "   {'on': 60},\n",
       "   {'sysex': 500},\n",
       "   {'off': 60},\n",
       "   {'on': 67},\n",
       "   {'sysex': 500},\n",
       "   {'off': 67},\n",
       "   {'on': 67},\n",
       "   {'sysex': 500},\n",
       "   {'off': 67},\n",
       "   {'on': 69},\n",
       "   {'sysex': 500},\n",
       "   {'off': 69},\n",
       "   {'on': 69},\n",
       "   {'sysex': 500},\n",
       "   {'off': 69},\n",
       "   {'on': 67},\n",
       "   {'sysex': 1000},\n",
       "   {'off': 67},\n",
       "   {'on': 65},\n",
       "   {'sysex': 500},\n",
       "   {'off': 65},\n",
       "   {'on': 65},\n",
       "   {'sysex': 500},\n",
       "   {'off': 65},\n",
       "   {'on': 64},\n",
       "   {'sysex': 500},\n",
       "   {'off': 64},\n",
       "   {'on': 64},\n",
       "   {'sysex': 500},\n",
       "   {'off': 64},\n",
       "   {'on': 62},\n",
       "   {'sysex': 500},\n",
       "   {'off': 62},\n",
       "   {'on': 62},\n",
       "   {'sysex': 500},\n",
       "   {'off': 62},\n",
       "   {'on': 60},\n",
       "   {'sysex': 500},\n",
       "   {'off': 60}]}}"
      ]
     },
     "execution_count": 331,
     "metadata": {},
     "output_type": "execute_result"
    }
   ],
   "source": [
    "mid = mido.MidiFile()\n",
    "track = mido.MidiTrack()\n",
    "mid.tracks.append(track)\n",
    "\n",
    "track.append(mido.Message('program_change', program=12, time=0))\n",
    "j=-1\n",
    "for i in data.get('res').get('notes'):\n",
    "    track.append(mido.Message('note_on', note=i[0]))\n",
    "    track.append(mido.Message('sysex', time=i[1]))\n",
    "    track.append(mido.Message('note_off', note=i[0]))\n",
    "\n",
    "mid.save('new_song.mid')\n",
    "mid_to_json(mid)"
   ]
  },
  {
   "cell_type": "markdown",
   "id": "0ef25239",
   "metadata": {},
   "source": [
    "эмпирически time - длительность, velocity - громкость"
   ]
  },
  {
   "attachments": {
    "Untitled.jpg": {
     "image/jpeg": "[encoded data removed]"
    }
   },
   "cell_type": "markdown",
   "id": "b29831c5",
   "metadata": {},
   "source": [
    "![Untitled.jpg](attachment:Untitled.jpg)\n",
    "\n",
    "# описан только случай когда тоника является самой низкой нотой (т.е. C-E-G и G-C-E оба являются До-мажором, но в списке указан только первый вариант)"
   ]
  },
  {
   "cell_type": "code",
   "execution_count": 332,
   "id": "60cd9d94",
   "metadata": {},
   "outputs": [],
   "source": [
    "major=[] #радостно, уверенно, весело\n",
    "minor=[] #грустно, печально, сентиментально\n",
    "dim=[] #неуверенно, испуганно, напряжённо\n",
    "aug=[] #удивленно, сказочно, слегка пугающе\n",
    "major7=[] #вдумчиво, мягко, легко, спокойно\n",
    "chord7=[] #сильно, беспокойно, дерзко\n",
    "minor7=[] #задумчиво, созерцательно, мягко, спокойно\n",
    "minorsharp7=[] #беспокойно, угнетающе, пугающе\n",
    "minor7b5=[] #неуверенно, раздражённо, слегка испуганно\n",
    "dim7=[] #напряженно, испуганно, потерянно\n",
    "major7sharp5=[] #удивленно, неожиданно, пугающе\n",
    "sus2=[] #ощущение ожидания, легкого напряжения\n",
    "sus4=[] #ожидание, легкое напряжение, предвкушение\n",
    "for i in range(0,127-4-3-4):\n",
    "    major.append([i, i+4, i+4+3])\n",
    "    minor.append([i, i+3, i+3+4])\n",
    "    dim.append([i, i+3, i+3+3])\n",
    "    aug.append([i, i+4, i+4+4])\n",
    "    major7.append([i, i+4, i+4+3, i+4+3+4])\n",
    "    chord7.append([i, i+4, i+4+3, i+4+3+3])\n",
    "    minor7.append([i, i+3, i+3+4, i+3+4+3])\n",
    "    minorsharp7.append([i, i+3, i+3+4, i+3+4+4])\n",
    "    minor7b5.append([i, i+3, i+3+3, i+3+3+4])\n",
    "    dim7.append([i, i+3, i+3+3, i+3+3+3])\n",
    "    major7sharp5.append([i, i+4, i+4+4, i+4+4+3])\n",
    "    sus2.append([i, i+2, i+2+5])\n",
    "    sus4.append([i, i+5, i+5+2])"
   ]
  },
  {
   "cell_type": "code",
   "execution_count": 333,
   "id": "a73e53c5",
   "metadata": {},
   "outputs": [
    {
     "data": {
      "text/plain": [
       "[0, 4, 7]"
      ]
     },
     "execution_count": 333,
     "metadata": {},
     "output_type": "execute_result"
    }
   ],
   "source": [
    "major[0]"
   ]
  },
  {
   "cell_type": "code",
   "execution_count": 334,
   "id": "7dc08425",
   "metadata": {},
   "outputs": [],
   "source": [
    "def get_chord_by_emotion(emotion):\n",
    "    switch_case = {\n",
    "        \"joy\": major,\n",
    "        \"sad\": minor,\n",
    "        \"scared\": random.choice([dim,dim7]),\n",
    "        \"surprise\": random.choice([aug,major7sharp5]),\n",
    "        \"calm\": random.choice([major7,minor7]),\n",
    "        \"scary\": minorsharp7,\n",
    "        \"angry\": minor7b5,\n",
    "        \"suspense\": random.choice([sus2,sus4,chord7])\n",
    "    }\n",
    "    if emotion in switch_case:\n",
    "        return switch_case[emotion]\n",
    "    else:\n",
    "        return major7"
   ]
  },
  {
   "cell_type": "markdown",
   "id": "e3f2b8e8",
   "metadata": {},
   "source": [
    "Полученные на вход ноты преобразуются в аккорды"
   ]
  },
  {
   "cell_type": "code",
   "execution_count": 344,
   "id": "7bbb7b53",
   "metadata": {},
   "outputs": [
    {
     "name": "stdout",
     "output_type": "stream",
     "text": [
      "{'on': 60}\n",
      "{'sysex': 500}\n",
      "{'off': 60}\n",
      "{'on': 60}\n",
      "{'sysex': 500}\n",
      "{'off': 60}\n",
      "{'on': 67}\n",
      "{'sysex': 500}\n",
      "{'off': 67}\n",
      "{'on': 67}\n",
      "{'sysex': 500}\n",
      "{'off': 67}\n",
      "{'on': 69}\n",
      "{'sysex': 500}\n",
      "{'off': 69}\n",
      "{'on': 69}\n",
      "{'sysex': 500}\n",
      "{'off': 69}\n",
      "{'on': 67}\n",
      "{'sysex': 1000}\n",
      "{'off': 67}\n",
      "{'on': 65}\n",
      "{'sysex': 500}\n",
      "{'off': 65}\n",
      "{'on': 65}\n",
      "{'sysex': 500}\n",
      "{'off': 65}\n",
      "{'on': 64}\n",
      "{'sysex': 500}\n",
      "{'off': 64}\n",
      "{'on': 64}\n",
      "{'sysex': 500}\n",
      "{'off': 64}\n",
      "{'on': 62}\n",
      "{'sysex': 500}\n",
      "{'off': 62}\n",
      "{'on': 62}\n",
      "{'sysex': 500}\n",
      "{'off': 62}\n",
      "{'on': 60}\n",
      "{'sysex': 500}\n",
      "{'off': 60}\n"
     ]
    }
   ],
   "source": [
    "for i in data2.get('res').get('notes'):\n",
    "    print(i)"
   ]
  },
  {
   "cell_type": "code",
   "execution_count": 345,
   "id": "409ef199",
   "metadata": {},
   "outputs": [
    {
     "data": {
      "text/plain": [
       "{'res': {'notes': [{'on': 60},\n",
       "   {'on': 63},\n",
       "   {'on': 67},\n",
       "   {'on': 71},\n",
       "   {'sysex': 500},\n",
       "   {'off': 60},\n",
       "   {'off': 63},\n",
       "   {'off': 67},\n",
       "   {'off': 71},\n",
       "   {'on': 60},\n",
       "   {'on': 63},\n",
       "   {'on': 67},\n",
       "   {'on': 71},\n",
       "   {'sysex': 500},\n",
       "   {'off': 60},\n",
       "   {'off': 63},\n",
       "   {'off': 67},\n",
       "   {'off': 71},\n",
       "   {'on': 67},\n",
       "   {'on': 70},\n",
       "   {'on': 74},\n",
       "   {'on': 78},\n",
       "   {'sysex': 500},\n",
       "   {'off': 67},\n",
       "   {'off': 70},\n",
       "   {'off': 74},\n",
       "   {'off': 78},\n",
       "   {'on': 67},\n",
       "   {'on': 70},\n",
       "   {'on': 74},\n",
       "   {'on': 78},\n",
       "   {'sysex': 500},\n",
       "   {'off': 67},\n",
       "   {'off': 70},\n",
       "   {'off': 74},\n",
       "   {'off': 78},\n",
       "   {'on': 69},\n",
       "   {'on': 72},\n",
       "   {'on': 76},\n",
       "   {'on': 80},\n",
       "   {'sysex': 500},\n",
       "   {'off': 69},\n",
       "   {'off': 72},\n",
       "   {'off': 76},\n",
       "   {'off': 80},\n",
       "   {'on': 69},\n",
       "   {'on': 72},\n",
       "   {'on': 76},\n",
       "   {'on': 80},\n",
       "   {'sysex': 500},\n",
       "   {'off': 69},\n",
       "   {'off': 72},\n",
       "   {'off': 76},\n",
       "   {'off': 80},\n",
       "   {'on': 67},\n",
       "   {'on': 70},\n",
       "   {'on': 74},\n",
       "   {'on': 78},\n",
       "   {'sysex': 1000},\n",
       "   {'off': 67},\n",
       "   {'off': 70},\n",
       "   {'off': 74},\n",
       "   {'off': 78},\n",
       "   {'on': 65},\n",
       "   {'on': 68},\n",
       "   {'on': 72},\n",
       "   {'on': 76},\n",
       "   {'sysex': 500},\n",
       "   {'off': 65},\n",
       "   {'off': 68},\n",
       "   {'off': 72},\n",
       "   {'off': 76},\n",
       "   {'on': 65},\n",
       "   {'on': 68},\n",
       "   {'on': 72},\n",
       "   {'on': 76},\n",
       "   {'sysex': 500},\n",
       "   {'off': 65},\n",
       "   {'off': 68},\n",
       "   {'off': 72},\n",
       "   {'off': 76},\n",
       "   {'on': 64},\n",
       "   {'on': 67},\n",
       "   {'on': 71},\n",
       "   {'on': 75},\n",
       "   {'sysex': 500},\n",
       "   {'off': 64},\n",
       "   {'off': 67},\n",
       "   {'off': 71},\n",
       "   {'off': 75},\n",
       "   {'on': 64},\n",
       "   {'on': 67},\n",
       "   {'on': 71},\n",
       "   {'on': 75},\n",
       "   {'sysex': 500},\n",
       "   {'off': 64},\n",
       "   {'off': 67},\n",
       "   {'off': 71},\n",
       "   {'off': 75},\n",
       "   {'on': 62},\n",
       "   {'on': 65},\n",
       "   {'on': 69},\n",
       "   {'on': 73},\n",
       "   {'sysex': 500},\n",
       "   {'off': 62},\n",
       "   {'off': 65},\n",
       "   {'off': 69},\n",
       "   {'off': 73},\n",
       "   {'on': 62},\n",
       "   {'on': 65},\n",
       "   {'on': 69},\n",
       "   {'on': 73},\n",
       "   {'sysex': 500},\n",
       "   {'off': 62},\n",
       "   {'off': 65},\n",
       "   {'off': 69},\n",
       "   {'off': 73},\n",
       "   {'on': 60},\n",
       "   {'on': 63},\n",
       "   {'on': 67},\n",
       "   {'on': 71},\n",
       "   {'sysex': 500},\n",
       "   {'off': 60},\n",
       "   {'off': 63},\n",
       "   {'off': 67},\n",
       "   {'off': 71}]}}"
      ]
     },
     "execution_count": 345,
     "metadata": {},
     "output_type": "execute_result"
    }
   ],
   "source": [
    "mid = mido.MidiFile()\n",
    "track = mido.MidiTrack()\n",
    "mid.tracks.append(track)\n",
    "\n",
    "chord = get_chord_by_emotion(data2.get('res').get('emotion'))\n",
    "for i in data2.get('res').get('notes'):\n",
    "    if i.get('on'):\n",
    "        for j in chord[i.get('on')]:\n",
    "            track.append(mido.Message('note_on', note=j))\n",
    "    if i.get('sysex'):\n",
    "        track.append(mido.Message('sysex', time=i.get('sysex')))\n",
    "    if i.get('off'):\n",
    "        for j in chord[i.get('off')]:\n",
    "            track.append(mido.Message('note_off', note=j))\n",
    "\n",
    "mid.save('new_song_chords.mid')\n",
    "mid_to_json(mid)"
   ]
  },
  {
   "cell_type": "markdown",
   "id": "25cca7db",
   "metadata": {},
   "source": [
    "Преобразование входных аккордов в MIDI и обратно"
   ]
  },
  {
   "cell_type": "code",
   "execution_count": 347,
   "id": "214aa89b",
   "metadata": {},
   "outputs": [
    {
     "data": {
      "text/plain": [
       "[{'on': 36},\n",
       " {'on': 40},\n",
       " {'on': 43},\n",
       " {'on': 47},\n",
       " {'sysex': 500},\n",
       " {'off': 36},\n",
       " {'off': 40},\n",
       " {'off': 43},\n",
       " {'off': 47},\n",
       " {'on': 38},\n",
       " {'on': 42},\n",
       " {'on': 45},\n",
       " {'on': 49},\n",
       " {'sysex': 500},\n",
       " {'off': 38},\n",
       " {'off': 42},\n",
       " {'off': 45},\n",
       " {'off': 49}]"
      ]
     },
     "execution_count": 347,
     "metadata": {},
     "output_type": "execute_result"
    }
   ],
   "source": [
    "data2.get('res').get('chords')"
   ]
  },
  {
   "cell_type": "code",
   "execution_count": 350,
   "id": "e40bddb9",
   "metadata": {},
   "outputs": [
    {
     "data": {
      "text/plain": [
       "{'res': {'notes': [{'on': 36},\n",
       "   {'on': 40},\n",
       "   {'on': 43},\n",
       "   {'on': 47},\n",
       "   {'sysex': 500},\n",
       "   {'off': 36},\n",
       "   {'off': 40},\n",
       "   {'off': 43},\n",
       "   {'off': 47},\n",
       "   {'on': 38},\n",
       "   {'on': 42},\n",
       "   {'on': 45},\n",
       "   {'on': 49},\n",
       "   {'sysex': 500},\n",
       "   {'off': 38},\n",
       "   {'off': 42},\n",
       "   {'off': 45},\n",
       "   {'off': 49}]}}"
      ]
     },
     "execution_count": 350,
     "metadata": {},
     "output_type": "execute_result"
    }
   ],
   "source": [
    "mid = mido.MidiFile()\n",
    "track = mido.MidiTrack()\n",
    "mid.tracks.append(track)\n",
    "\n",
    "for i in data2.get('res').get('chords'):\n",
    "    if i.get('on'):\n",
    "        track.append(mido.Message('note_on', note=i.get('on')))\n",
    "    if i.get('sysex'):\n",
    "        track.append(mido.Message('sysex', time=i.get('sysex')))\n",
    "    if i.get('off'):\n",
    "        track.append(mido.Message('note_off', note=i.get('off')))\n",
    "\n",
    "mid.save('USER_song_chords.mid')\n",
    "mid_to_json(mid)"
   ]
  },
  {
   "cell_type": "code",
   "execution_count": 225,
   "id": "e304e8e5",
   "metadata": {},
   "outputs": [
    {
     "data": {
      "text/plain": [
       "'{\"res\": {\"notes\": [36, 36, 38, 38, 39, 39, 41, 39, 39, 38, 38, 36, 36, 34, 36, 36], \"chords\": [[36, 40, 43, 47], [38, 42, 45, 49]], \"new_chords\": [[36, 40, 43], [36, 40, 43], [38, 42, 45], [38, 42, 45], [39, 43, 46], [39, 43, 46], [41, 45, 48], [39, 43, 46], [39, 43, 46], [38, 42, 45], [38, 42, 45], [36, 40, 43], [36, 40, 43], [34, 38, 41], [36, 40, 43], [36, 40, 43]]}}'"
      ]
     },
     "execution_count": 225,
     "metadata": {},
     "output_type": "execute_result"
    }
   ],
   "source": [
    "#new_data=copy.deepcopy(data)\n",
    "#\n",
    "#new_data.get('res')['new_chords']=[major[i[0]] for i in data.get('res').get('notes')]\n",
    "#json.dumps(new_data)"
   ]
  },
  {
   "cell_type": "code",
   "execution_count": null,
   "id": "cb9f3572",
   "metadata": {},
   "outputs": [],
   "source": []
  },
  {
   "cell_type": "code",
   "execution_count": null,
   "id": "052470a1",
   "metadata": {},
   "outputs": [],
   "source": []
  },
  {
   "cell_type": "markdown",
   "id": "2dc69ae9",
   "metadata": {},
   "source": [
    "I — IV — V — V.\n",
    "I — I — IV — V.\n",
    "I — IV — I — V.\n",
    "I — IV — V — IV.\n",
    "\n",
    ".\n",
    ".\n",
    ".\n",
    "\n",
    "Блюзовая гармония\n",
    "\n",
    "I — I — I — I\n",
    "IV — IV — I — I\n",
    "V — IV — I — I\n",
    "\n",
    "C-C-C-C-F-F-C-C-G-F-C-C\n",
    "\n",
    "i i i i i+5 i+5 i i i+7 i+5 i i"
   ]
  },
  {
   "cell_type": "code",
   "execution_count": 351,
   "id": "f2df3c2d",
   "metadata": {},
   "outputs": [],
   "source": [
    "chord3_p=[0,5,7,7,0,0,5,7,0,5,0,7,0,5,7,5]\n",
    "blues_p=[0,0,0,0,5,5,0,0,7,5,0,0]"
   ]
  },
  {
   "cell_type": "markdown",
   "id": "99c9d524",
   "metadata": {},
   "source": [
    "Построение нотной прогрессии от одной ноты"
   ]
  },
  {
   "cell_type": "code",
   "execution_count": 352,
   "id": "628a407b",
   "metadata": {},
   "outputs": [
    {
     "data": {
      "text/plain": [
       "{'res': {'notes': [{'on': 76},\n",
       "   {'off': 76},\n",
       "   {'on': 81},\n",
       "   {'off': 81},\n",
       "   {'on': 83},\n",
       "   {'off': 83},\n",
       "   {'on': 83},\n",
       "   {'off': 83},\n",
       "   {'on': 76},\n",
       "   {'off': 76},\n",
       "   {'on': 76},\n",
       "   {'off': 76},\n",
       "   {'on': 81},\n",
       "   {'off': 81},\n",
       "   {'on': 83},\n",
       "   {'off': 83},\n",
       "   {'on': 76},\n",
       "   {'off': 76},\n",
       "   {'on': 81},\n",
       "   {'off': 81},\n",
       "   {'on': 76},\n",
       "   {'off': 76},\n",
       "   {'on': 83},\n",
       "   {'off': 83},\n",
       "   {'on': 76},\n",
       "   {'off': 76},\n",
       "   {'on': 81},\n",
       "   {'off': 81},\n",
       "   {'on': 83},\n",
       "   {'off': 83},\n",
       "   {'on': 81},\n",
       "   {'off': 81}]}}"
      ]
     },
     "execution_count": 352,
     "metadata": {},
     "output_type": "execute_result"
    }
   ],
   "source": [
    "mid = mido.MidiFile()\n",
    "track = mido.MidiTrack()\n",
    "mid.tracks.append(track)\n",
    "\n",
    "for i in [76]:\n",
    "    for j in chord3_p:\n",
    "        track.append(mido.Message('note_on', note=i+j))\n",
    "        track.append(mido.Message('note_off', note=i+j, time=240))\n",
    "\n",
    "mid.save('new_song_progression.mid')\n",
    "mid_to_json(mid)"
   ]
  },
  {
   "cell_type": "markdown",
   "id": "58bb318b",
   "metadata": {},
   "source": [
    "Применение квинтового круга для определения наиболее созвучных аккордов"
   ]
  },
  {
   "cell_type": "code",
   "execution_count": 353,
   "id": "d9056f02",
   "metadata": {},
   "outputs": [
    {
     "name": "stdout",
     "output_type": "stream",
     "text": [
      "[0, 7, 2, 9, 4, 11, 6, 1, 8, 3, 10, 5]\n"
     ]
    }
   ],
   "source": [
    "circle_of_fifths=[0]\n",
    "for i in range(0, 11):\n",
    "    circle_of_fifths.append((circle_of_fifths[-1]+7)%12)\n",
    "print(circle_of_fifths)"
   ]
  },
  {
   "cell_type": "code",
   "execution_count": 354,
   "id": "1c51f163",
   "metadata": {},
   "outputs": [
    {
     "name": "stdout",
     "output_type": "stream",
     "text": [
      "5 0 7\n",
      "0 7 2\n",
      "7 2 9\n",
      "2 9 4\n",
      "9 4 11\n",
      "4 11 6\n",
      "11 6 1\n",
      "6 1 8\n",
      "1 8 3\n",
      "8 3 10\n",
      "3 10 5\n",
      "10 5 0\n"
     ]
    }
   ],
   "source": [
    "for i in range(0,len(circle_of_fifths)):\n",
    "    print(circle_of_fifths[i-1],circle_of_fifths[i],circle_of_fifths[(i+1)%len(circle_of_fifths)])"
   ]
  },
  {
   "cell_type": "code",
   "execution_count": 355,
   "id": "4de23cca",
   "metadata": {},
   "outputs": [
    {
     "name": "stdout",
     "output_type": "stream",
     "text": [
      "[10, 14, 17] [5, 9, 12] [0, 4, 7]\n",
      "[7, 10, 14] [2, 5, 9] [9, 12, 16]\n"
     ]
    }
   ],
   "source": [
    "print(major[circle_of_fifths[i-1]],major[circle_of_fifths[i]],major[circle_of_fifths[(i+1)%len(circle_of_fifths)]])\n",
    "print(minor[circle_of_fifths[i-1-9]],minor[circle_of_fifths[i-9]],minor[circle_of_fifths[i+1-9]])"
   ]
  },
  {
   "cell_type": "markdown",
   "id": "28b5c43a",
   "metadata": {},
   "source": [
    "Перебор близких аккордов по одной ноте (тональности)"
   ]
  },
  {
   "cell_type": "code",
   "execution_count": 356,
   "id": "82a47636",
   "metadata": {},
   "outputs": [
    {
     "data": {
      "text/plain": [
       "{'res': {'notes': [{'on': 65},\n",
       "   {'on': 69},\n",
       "   {'on': 72},\n",
       "   {'sysex': 480},\n",
       "   {'off': 65},\n",
       "   {'off': 69},\n",
       "   {'off': 72},\n",
       "   {'on': 60},\n",
       "   {'on': 64},\n",
       "   {'on': 67},\n",
       "   {'sysex': 480},\n",
       "   {'off': 60},\n",
       "   {'off': 64},\n",
       "   {'off': 67},\n",
       "   {'on': 67},\n",
       "   {'on': 71},\n",
       "   {'on': 74},\n",
       "   {'sysex': 480},\n",
       "   {'off': 67},\n",
       "   {'off': 71},\n",
       "   {'off': 74},\n",
       "   {'on': 64},\n",
       "   {'on': 67},\n",
       "   {'on': 71},\n",
       "   {'sysex': 480},\n",
       "   {'off': 64},\n",
       "   {'off': 67},\n",
       "   {'off': 71},\n",
       "   {'on': 69},\n",
       "   {'on': 72},\n",
       "   {'on': 76},\n",
       "   {'sysex': 480},\n",
       "   {'off': 69},\n",
       "   {'off': 72},\n",
       "   {'off': 76},\n",
       "   {'on': 62},\n",
       "   {'on': 65},\n",
       "   {'on': 69},\n",
       "   {'sysex': 480},\n",
       "   {'off': 62},\n",
       "   {'off': 65},\n",
       "   {'off': 69}]}}"
      ]
     },
     "execution_count": 356,
     "metadata": {},
     "output_type": "execute_result"
    }
   ],
   "source": [
    "mid = mido.MidiFile()\n",
    "track = mido.MidiTrack()\n",
    "mid.tracks.append(track)\n",
    "\n",
    "for i in [60]:\n",
    "    for j in [major[circle_of_fifths[i%12-1]],major[circle_of_fifths[i%12]],major[circle_of_fifths[(i%12+1)%len(circle_of_fifths)]],\n",
    "              minor[circle_of_fifths[i%12+1-9]],minor[circle_of_fifths[i%12-9]],minor[circle_of_fifths[i%12-1-9]]]:\n",
    "        for k in j:\n",
    "            track.append(mido.Message('note_on', note=i+k))\n",
    "        track.append(mido.Message('sysex', time=480))\n",
    "        for k in j:    \n",
    "            track.append(mido.Message('note_off', note=i+k))\n",
    "\n",
    "mid.save('new_circle_progression.mid')\n",
    "mid_to_json(mid)"
   ]
  },
  {
   "cell_type": "markdown",
   "id": "3ace2238",
   "metadata": {},
   "source": [
    "# тональность определяется первой нотой в данных пользователя, а количество нот мелодии до смены аккорда задано числом"
   ]
  },
  {
   "cell_type": "code",
   "execution_count": 372,
   "id": "c4799c13",
   "metadata": {},
   "outputs": [],
   "source": [
    "#TODO\n",
    "def get_min_length(notes):\n",
    "    lens=[]\n",
    "    for note in notes:\n",
    "        if note.get('sysex'):\n",
    "            lens.append(note.get('sysex'))\n",
    "    return min(lens)\n",
    "\n",
    "def get_melody_notes_per_chord(notes):\n",
    "    return 4"
   ]
  },
  {
   "cell_type": "code",
   "execution_count": 375,
   "id": "28f60e07",
   "metadata": {},
   "outputs": [],
   "source": [
    "def get_cycles(notes):\n",
    "    min_length=get_min_length(notes)\n",
    "    rhythm=get_melody_notes_per_chord(notes)\n",
    "    cycle=[0]\n",
    "    temp=0\n",
    "    for i in range(len(notes)):\n",
    "        if notes[i].get('sysex'):\n",
    "            temp=temp+notes[i].get('sysex')\n",
    "        if temp>=min_length*rhythm:\n",
    "            cycle.append(i+1)\n",
    "            temp=0\n",
    "    if temp!=0:\n",
    "        cycle.append(i+1)\n",
    "    return cycle"
   ]
  },
  {
   "cell_type": "code",
   "execution_count": 406,
   "id": "30951057",
   "metadata": {},
   "outputs": [],
   "source": [
    "def get_key(notes):\n",
    "    for i in notes:\n",
    "        if i.get('on'):\n",
    "            break\n",
    "    return i.get('on')"
   ]
  },
  {
   "cell_type": "code",
   "execution_count": 35,
   "id": "20f8bc4f",
   "metadata": {},
   "outputs": [],
   "source": [
    "json_string = \"\"\"\n",
    "{\n",
    "    \"res\": {\n",
    "        \"notes\": [\n",
    "            [60,500],\n",
    "            [60,500],\n",
    "            [67,500],\n",
    "            [67,500],\n",
    "            [69,500],\n",
    "            [69,500],\n",
    "            [67,1000],\n",
    "            [65,500],\n",
    "            [65,500],\n",
    "            [64,500],\n",
    "            [64,500],\n",
    "            [62,500],\n",
    "            [62,500],\n",
    "            [60,500]\n",
    "        ],\n",
    "        \"emotion\": \"suspense\"\n",
    "    }\n",
    "}\n",
    "\"\"\"\n",
    " \n",
    "data = json.loads(json_string)"
   ]
  },
  {
   "cell_type": "code",
   "execution_count": 393,
   "id": "b9abb91b",
   "metadata": {},
   "outputs": [],
   "source": [
    "json_string = \"\"\"\n",
    "{\n",
    "    \"res\": {\n",
    "        \"notes\": [\n",
    "            {\"on\": 60},\n",
    "            {\"sysex\": 500},\n",
    "            {\"off\": 60},\n",
    "            {\"on\": 60},\n",
    "            {\"sysex\": 500},\n",
    "            {\"off\": 60},\n",
    "            {\"on\": 67},\n",
    "            {\"sysex\": 500},\n",
    "            {\"off\": 67},\n",
    "            {\"on\": 67},\n",
    "            {\"sysex\": 500},\n",
    "            {\"off\": 67},\n",
    "            {\"on\": 69},\n",
    "            {\"sysex\": 500},\n",
    "            {\"off\": 69},\n",
    "            {\"on\": 69},\n",
    "            {\"sysex\": 500},\n",
    "            {\"off\": 69},\n",
    "            {\"on\": 67},\n",
    "            {\"sysex\": 1000},\n",
    "            {\"off\": 67},\n",
    "            {\"on\": 65},\n",
    "            {\"sysex\": 500},\n",
    "            {\"off\": 65},\n",
    "            {\"on\": 65},\n",
    "            {\"sysex\": 500},\n",
    "            {\"off\": 65},\n",
    "            {\"on\": 64},\n",
    "            {\"sysex\": 500},\n",
    "            {\"off\": 64},\n",
    "            {\"on\": 64},\n",
    "            {\"sysex\": 500},\n",
    "            {\"off\": 64},\n",
    "            {\"on\": 62},\n",
    "            {\"sysex\": 500},\n",
    "            {\"off\": 62},\n",
    "            {\"on\": 62},\n",
    "            {\"sysex\": 500},\n",
    "            {\"off\": 62},\n",
    "            {\"on\": 60},\n",
    "            {\"sysex\": 500},\n",
    "            {\"off\": 60}\n",
    "        ],\n",
    "        \"emotion\": \"suspense\"\n",
    "    }\n",
    "}\n",
    "\"\"\"\n",
    " \n",
    "data = json.loads(json_string)"
   ]
  },
  {
   "cell_type": "markdown",
   "id": "6b8190f9",
   "metadata": {},
   "source": [
    "Построение аккордовой прогрессии по мелодии (аккордом берётся мажорный аккорд каждой 4-ой ноты мелодии)"
   ]
  },
  {
   "cell_type": "code",
   "execution_count": 407,
   "id": "08ed84ac",
   "metadata": {},
   "outputs": [
    {
     "name": "stdout",
     "output_type": "stream",
     "text": [
      "[0, 11, 20, 32, 42]\n"
     ]
    },
    {
     "data": {
      "text/plain": [
       "{'res': {'notes': [{'on': 36},\n",
       "   {'on': 41},\n",
       "   {'on': 43},\n",
       "   {'on': 60},\n",
       "   {'sysex': 500},\n",
       "   {'off': 60},\n",
       "   {'on': 60},\n",
       "   {'sysex': 500},\n",
       "   {'off': 60},\n",
       "   {'on': 67},\n",
       "   {'sysex': 500},\n",
       "   {'off': 67},\n",
       "   {'on': 67},\n",
       "   {'sysex': 500},\n",
       "   {'off': 36},\n",
       "   {'off': 41},\n",
       "   {'off': 43},\n",
       "   {'on': 45},\n",
       "   {'on': 50},\n",
       "   {'on': 52},\n",
       "   {'off': 67},\n",
       "   {'on': 69},\n",
       "   {'sysex': 500},\n",
       "   {'off': 69},\n",
       "   {'on': 69},\n",
       "   {'sysex': 500},\n",
       "   {'off': 69},\n",
       "   {'on': 67},\n",
       "   {'sysex': 1000},\n",
       "   {'off': 45},\n",
       "   {'off': 50},\n",
       "   {'off': 52},\n",
       "   {'on': 41},\n",
       "   {'on': 46},\n",
       "   {'on': 48},\n",
       "   {'off': 67},\n",
       "   {'on': 65},\n",
       "   {'sysex': 500},\n",
       "   {'off': 65},\n",
       "   {'on': 65},\n",
       "   {'sysex': 500},\n",
       "   {'off': 65},\n",
       "   {'on': 64},\n",
       "   {'sysex': 500},\n",
       "   {'off': 64},\n",
       "   {'on': 64},\n",
       "   {'sysex': 500},\n",
       "   {'off': 41},\n",
       "   {'off': 46},\n",
       "   {'off': 48},\n",
       "   {'on': 38},\n",
       "   {'on': 43},\n",
       "   {'on': 45},\n",
       "   {'off': 64},\n",
       "   {'on': 62},\n",
       "   {'sysex': 500},\n",
       "   {'off': 62},\n",
       "   {'on': 62},\n",
       "   {'sysex': 500},\n",
       "   {'off': 62},\n",
       "   {'on': 60},\n",
       "   {'sysex': 500},\n",
       "   {'off': 60},\n",
       "   {'off': 38},\n",
       "   {'off': 43},\n",
       "   {'off': 45}]}}"
      ]
     },
     "execution_count": 407,
     "metadata": {},
     "output_type": "execute_result"
    }
   ],
   "source": [
    "mid = mido.MidiFile()\n",
    "track = mido.MidiTrack()\n",
    "mid.tracks.append(track)\n",
    "\n",
    "notes = data.get('res').get('notes')\n",
    "notes_cycle = get_melody_notes_per_chord(notes)\n",
    "notes_cycle_len = get_cycles(notes)\n",
    "print(notes_cycle_len)\n",
    "chord=get_chord_by_emotion(data.get('res').get('emotion'))\n",
    "for i in range(len(notes_cycle_len)-1):\n",
    "    cycle_notes=notes[notes_cycle_len[i]:notes_cycle_len[i+1]]\n",
    "    melody_key = get_key(cycle_notes)\n",
    "    for k in chord[melody_key]:\n",
    "        track.append(mido.Message('note_on', note=k-24))\n",
    "    for j in cycle_notes:\n",
    "        if j.get('on'):\n",
    "            track.append(mido.Message('note_on', note=j.get('on')))\n",
    "        if j.get('sysex'):\n",
    "            track.append(mido.Message('sysex', time=j.get('sysex')))\n",
    "        if j.get('off'):\n",
    "            track.append(mido.Message('note_off', note=j.get('off')))\n",
    "    for k in chord[melody_key]:\n",
    "        track.append(mido.Message('note_off', note=k-24))\n",
    "\n",
    "mid.save('new_accompany_melody_progression.mid')\n",
    "mid_to_json(mid)"
   ]
  },
  {
   "cell_type": "code",
   "execution_count": 408,
   "id": "25155ae9",
   "metadata": {},
   "outputs": [
    {
     "name": "stdout",
     "output_type": "stream",
     "text": [
      "CYCLE\n",
      "{'on': 60}\n",
      "{'sysex': 500}\n",
      "{'off': 60}\n",
      "{'on': 60}\n",
      "{'sysex': 500}\n",
      "{'off': 60}\n",
      "{'on': 67}\n",
      "{'sysex': 500}\n",
      "{'off': 67}\n",
      "{'on': 67}\n",
      "{'sysex': 500}\n",
      "CYCLE\n",
      "{'off': 67}\n",
      "{'on': 69}\n",
      "{'sysex': 500}\n",
      "{'off': 69}\n",
      "{'on': 69}\n",
      "{'sysex': 500}\n",
      "{'off': 69}\n",
      "{'on': 67}\n",
      "{'sysex': 1000}\n",
      "CYCLE\n",
      "{'off': 67}\n",
      "{'on': 65}\n",
      "{'sysex': 500}\n",
      "{'off': 65}\n",
      "{'on': 65}\n",
      "{'sysex': 500}\n",
      "{'off': 65}\n",
      "{'on': 64}\n",
      "{'sysex': 500}\n",
      "{'off': 64}\n",
      "{'on': 64}\n",
      "{'sysex': 500}\n",
      "CYCLE\n",
      "{'off': 64}\n",
      "{'on': 62}\n",
      "{'sysex': 500}\n",
      "{'off': 62}\n",
      "{'on': 62}\n",
      "{'sysex': 500}\n",
      "{'off': 62}\n",
      "{'on': 60}\n",
      "{'sysex': 500}\n",
      "{'off': 60}\n"
     ]
    },
    {
     "data": {
      "text/plain": [
       "41"
      ]
     },
     "execution_count": 408,
     "metadata": {},
     "output_type": "execute_result"
    }
   ],
   "source": [
    "for i in range(len(notes)):\n",
    "    if i in notes_cycle_len:\n",
    "        print(\"CYCLE\")\n",
    "    print(notes[i])\n",
    "i"
   ]
  },
  {
   "cell_type": "markdown",
   "id": "0e83e55a",
   "metadata": {},
   "source": [
    "Построение аккордовой прогрессии по мелодии (аккордом берётся рандомный созвучный аккорд тональности мелодии)"
   ]
  },
  {
   "cell_type": "code",
   "execution_count": 409,
   "id": "fc7755d6",
   "metadata": {},
   "outputs": [
    {
     "name": "stdout",
     "output_type": "stream",
     "text": [
      "[5, 9, 12]\n",
      "[0, 4, 7]\n",
      "[7, 11, 14]\n",
      "[0, 4, 7]\n"
     ]
    }
   ],
   "source": [
    "mid = mido.MidiFile()\n",
    "track = mido.MidiTrack()\n",
    "mid.tracks.append(track)\n",
    "\n",
    "notes = data.get('res').get('notes')\n",
    "notes_cycle = get_melody_notes_per_chord(notes)\n",
    "#notes_cycle_len = len(notes)//notes_cycle+1 #4\n",
    "notes_cycle_len = get_cycles(notes)\n",
    "melody_key = get_key(notes)\n",
    "for i in range(len(notes_cycle_len)-1):\n",
    "    cycle_notes=notes[notes_cycle_len[i]:notes_cycle_len[i+1]]\n",
    "    random_chord = random.choice([major[circle_of_fifths[melody_key%12]],\n",
    "              major[circle_of_fifths[melody_key%12-1]],\n",
    "              major[circle_of_fifths[(melody_key%12+1)%len(circle_of_fifths)]],\n",
    "              minor[circle_of_fifths[melody_key%12+1-9]],\n",
    "              minor[circle_of_fifths[melody_key%12-9]],\n",
    "              minor[circle_of_fifths[melody_key%12-1-9]]])\n",
    "    print(random_chord)\n",
    "    for k in random_chord:\n",
    "        track.append(mido.Message('note_on', note=melody_key+k-24))\n",
    "    for j in cycle_notes:\n",
    "        if j.get('on'):\n",
    "            track.append(mido.Message('note_on', note=j.get('on')))\n",
    "        if j.get('sysex'):\n",
    "            track.append(mido.Message('sysex', time=j.get('sysex')))\n",
    "        if j.get('off'):\n",
    "            track.append(mido.Message('note_off', note=j.get('off')))\n",
    "    for k in random_chord:\n",
    "        track.append(mido.Message('note_off', note=melody_key+k-24))\n",
    "\n",
    "mid.save('new_accompany_melody_circle_progression.mid')"
   ]
  },
  {
   "cell_type": "code",
   "execution_count": 410,
   "id": "1e5bfe7d",
   "metadata": {},
   "outputs": [
    {
     "data": {
      "text/plain": [
       "{'res': {'notes': [{'on': 41},\n",
       "   {'on': 45},\n",
       "   {'on': 48},\n",
       "   {'on': 60},\n",
       "   {'sysex': 500},\n",
       "   {'off': 60},\n",
       "   {'on': 60},\n",
       "   {'sysex': 500},\n",
       "   {'off': 60},\n",
       "   {'on': 67},\n",
       "   {'sysex': 500},\n",
       "   {'off': 67},\n",
       "   {'on': 67},\n",
       "   {'sysex': 500},\n",
       "   {'off': 41},\n",
       "   {'off': 45},\n",
       "   {'off': 48},\n",
       "   {'on': 36},\n",
       "   {'on': 40},\n",
       "   {'on': 43},\n",
       "   {'off': 67},\n",
       "   {'on': 69},\n",
       "   {'sysex': 500},\n",
       "   {'off': 69},\n",
       "   {'on': 69},\n",
       "   {'sysex': 500},\n",
       "   {'off': 69},\n",
       "   {'on': 67},\n",
       "   {'sysex': 1000},\n",
       "   {'off': 36},\n",
       "   {'off': 40},\n",
       "   {'off': 43},\n",
       "   {'on': 43},\n",
       "   {'on': 47},\n",
       "   {'on': 50},\n",
       "   {'off': 67},\n",
       "   {'on': 65},\n",
       "   {'sysex': 500},\n",
       "   {'off': 65},\n",
       "   {'on': 65},\n",
       "   {'sysex': 500},\n",
       "   {'off': 65},\n",
       "   {'on': 64},\n",
       "   {'sysex': 500},\n",
       "   {'off': 64},\n",
       "   {'on': 64},\n",
       "   {'sysex': 500},\n",
       "   {'off': 43},\n",
       "   {'off': 47},\n",
       "   {'off': 50},\n",
       "   {'on': 36},\n",
       "   {'on': 40},\n",
       "   {'on': 43},\n",
       "   {'off': 64},\n",
       "   {'on': 62},\n",
       "   {'sysex': 500},\n",
       "   {'off': 62},\n",
       "   {'on': 62},\n",
       "   {'sysex': 500},\n",
       "   {'off': 62},\n",
       "   {'on': 60},\n",
       "   {'sysex': 500},\n",
       "   {'off': 60},\n",
       "   {'off': 36},\n",
       "   {'off': 40},\n",
       "   {'off': 43}]}}"
      ]
     },
     "execution_count": 410,
     "metadata": {},
     "output_type": "execute_result"
    }
   ],
   "source": [
    "mid_to_json(mid)"
   ]
  },
  {
   "cell_type": "code",
   "execution_count": null,
   "id": "21969615",
   "metadata": {},
   "outputs": [],
   "source": []
  },
  {
   "cell_type": "code",
   "execution_count": null,
   "id": "0d7149bd",
   "metadata": {},
   "outputs": [],
   "source": []
  }
 ],
 "metadata": {
  "kernelspec": {
   "display_name": "Python 3 (ipykernel)",
   "language": "python",
   "name": "python3"
  },
  "language_info": {
   "codemirror_mode": {
    "name": "ipython",
    "version": 3
   },
   "file_extension": ".py",
   "mimetype": "text/x-python",
   "name": "python",
   "nbconvert_exporter": "python",
   "pygments_lexer": "ipython3",
   "version": "3.9.16"
  }
 },
 "nbformat": 4,
 "nbformat_minor": 5
}
