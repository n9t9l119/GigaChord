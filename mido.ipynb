{
 "cells": [
  {
   "cell_type": "code",
   "execution_count": 14,
   "id": "cf54e3d0",
   "metadata": {},
   "outputs": [
    {
     "name": "stdout",
     "output_type": "stream",
     "text": [
      "Collecting package metadata (current_repodata.json): ...working... done\n",
      "Solving environment: ...working... failed with initial frozen solve. Retrying with flexible solve.\n",
      "Collecting package metadata (repodata.json): ...working... done\n",
      "Solving environment: ...working... failed with initial frozen solve. Retrying with flexible solve.\n"
     ]
    },
    {
     "name": "stderr",
     "output_type": "stream",
     "text": [
      "\n",
      "PackagesNotFoundError: The following packages are not available from current channels:\n",
      "\n",
      "  - mido\n",
      "\n",
      "Current channels:\n",
      "\n",
      "  - https://conda.anaconda.org/roebel/win-64\n",
      "  - https://conda.anaconda.org/roebel/noarch\n",
      "  - https://repo.anaconda.com/pkgs/main/win-64\n",
      "  - https://repo.anaconda.com/pkgs/main/noarch\n",
      "  - https://repo.anaconda.com/pkgs/r/win-64\n",
      "  - https://repo.anaconda.com/pkgs/r/noarch\n",
      "  - https://repo.anaconda.com/pkgs/msys2/win-64\n",
      "  - https://repo.anaconda.com/pkgs/msys2/noarch\n",
      "\n",
      "To search for alternate channels that may provide the conda package you're\n",
      "looking for, navigate to\n",
      "\n",
      "    https://anaconda.org\n",
      "\n",
      "and use the search bar at the top of the page.\n",
      "\n",
      "\n"
     ]
    }
   ],
   "source": [
    "!conda install -c roebel mido"
   ]
  },
  {
   "cell_type": "code",
   "execution_count": 6,
   "id": "7dfe7b58",
   "metadata": {},
   "outputs": [
    {
     "name": "stdout",
     "output_type": "stream",
     "text": [
      "Python 3.9.16\n"
     ]
    }
   ],
   "source": [
    "!python -V"
   ]
  },
  {
   "cell_type": "code",
   "execution_count": 12,
   "id": "e091ffce",
   "metadata": {},
   "outputs": [
    {
     "name": "stdout",
     "output_type": "stream",
     "text": [
      "Collecting mido\n",
      "  Downloading mido-1.2.10-py2.py3-none-any.whl (51 kB)\n",
      "     -------------------------------------- 51.1/51.1 kB 869.2 kB/s eta 0:00:00\n",
      "Installing collected packages: mido\n",
      "Successfully installed mido-1.2.10\n"
     ]
    }
   ],
   "source": [
    "!pip install mido"
   ]
  },
  {
   "cell_type": "markdown",
   "id": "f0586265",
   "metadata": {},
   "source": [
    "#"
   ]
  },
  {
   "cell_type": "code",
   "execution_count": 213,
   "id": "e67cb733",
   "metadata": {},
   "outputs": [],
   "source": [
    "import mido\n",
    "import json\n",
    "import copy"
   ]
  },
  {
   "cell_type": "markdown",
   "id": "b5ec22ca",
   "metadata": {},
   "source": [
    "Перевод MIDI в JSON.\n",
    "# длительности на данный момент постоянные"
   ]
  },
  {
   "cell_type": "code",
   "execution_count": 214,
   "id": "b68650f3",
   "metadata": {},
   "outputs": [],
   "source": [
    "def mid_to_json(mid):\n",
    "    temp=[]\n",
    "    new_data={'res':{}}\n",
    "    new_data.get('res')['notes']=[]\n",
    "    for i in mid.tracks[0]:\n",
    "        if i.type=='note_on':\n",
    "            new_data.get('res')['notes'].append({'on':i.note})\n",
    "        elif i.type=='sysex':\n",
    "            new_data.get('res')['notes'].append({'sysex':i.time}) \n",
    "        elif i.type=='note_off':\n",
    "            new_data.get('res')['notes'].append({'off':i.note})\n",
    "    return(new_data)"
   ]
  },
  {
   "cell_type": "markdown",
   "id": "5647fa13",
   "metadata": {},
   "source": [
    "Входной JSON: подразумевается, что помимо res мгут подаваться какие-либо ещё данные\n",
    "# возможно settings, где будет определяться тональность пользователем"
   ]
  },
  {
   "cell_type": "code",
   "execution_count": 240,
   "id": "477690ab",
   "metadata": {},
   "outputs": [],
   "source": [
    "json_string = \"\"\"\n",
    "{\n",
    "    \"res\": {\n",
    "        \"notes\": [\n",
    "            36,\n",
    "            36,\n",
    "            38,\n",
    "            38,\n",
    "            39,\n",
    "            39,\n",
    "            41,\n",
    "            39,\n",
    "            39,\n",
    "            38,\n",
    "            38,\n",
    "            36,\n",
    "            36,\n",
    "            34,\n",
    "            36,\n",
    "            36\n",
    "        ],\n",
    "        \"chords\": [\n",
    "            [36,40,43,47],\n",
    "            [38,42,45,49]\n",
    "        ]\n",
    "    }\n",
    "}\n",
    "\"\"\"\n",
    " \n",
    "data = json.loads(json_string)"
   ]
  },
  {
   "cell_type": "code",
   "execution_count": 241,
   "id": "9ec354a4",
   "metadata": {
    "scrolled": true
   },
   "outputs": [
    {
     "data": {
      "text/plain": [
       "[36, 36, 38, 38, 39, 39, 41, 39, 39, 38, 38, 36, 36, 34, 36, 36]"
      ]
     },
     "execution_count": 241,
     "metadata": {},
     "output_type": "execute_result"
    }
   ],
   "source": [
    "data.get('res').get('notes')"
   ]
  },
  {
   "cell_type": "markdown",
   "id": "6d71eb6c",
   "metadata": {},
   "source": [
    "Для того чтобы ноты не отжимались мгновенно, нужно задать time (в случае нажимания и отпускания нескольких клавиш одновременно, мы применяли системное сообщение с параметром time между циклами из нажатия и отпускания клавиш)"
   ]
  },
  {
   "cell_type": "code",
   "execution_count": 242,
   "id": "0bb14523",
   "metadata": {},
   "outputs": [
    {
     "data": {
      "text/plain": [
       "{'res': {'notes': [{'on': 36},\n",
       "   {'off': 36},\n",
       "   {'on': 36},\n",
       "   {'off': 36},\n",
       "   {'on': 38},\n",
       "   {'off': 38},\n",
       "   {'on': 38},\n",
       "   {'off': 38},\n",
       "   {'on': 39},\n",
       "   {'off': 39},\n",
       "   {'on': 39},\n",
       "   {'off': 39},\n",
       "   {'on': 41},\n",
       "   {'off': 41},\n",
       "   {'on': 39},\n",
       "   {'off': 39},\n",
       "   {'on': 39},\n",
       "   {'off': 39},\n",
       "   {'on': 38},\n",
       "   {'off': 38},\n",
       "   {'on': 38},\n",
       "   {'off': 38},\n",
       "   {'on': 36},\n",
       "   {'off': 36},\n",
       "   {'on': 36},\n",
       "   {'off': 36},\n",
       "   {'on': 34},\n",
       "   {'off': 34},\n",
       "   {'on': 36},\n",
       "   {'off': 36},\n",
       "   {'on': 36},\n",
       "   {'off': 36}]}}"
      ]
     },
     "execution_count": 242,
     "metadata": {},
     "output_type": "execute_result"
    }
   ],
   "source": [
    "mid = mido.MidiFile()\n",
    "track = mido.MidiTrack()\n",
    "mid.tracks.append(track)\n",
    "\n",
    "track.append(mido.Message('program_change', program=12, time=0))\n",
    "j=-1\n",
    "for i in data.get('res').get('notes'):\n",
    "    track.append(mido.Message('note_on', note=i))\n",
    "    track.append(mido.Message('note_off', note=i, time=240))\n",
    "\n",
    "mid.save('new_song.mid')\n",
    "mid_to_json(mid)"
   ]
  },
  {
   "cell_type": "markdown",
   "id": "0ef25239",
   "metadata": {},
   "source": [
    "эмпирически time - длительность, velocity - громкость"
   ]
  },
  {
   "cell_type": "markdown",
   "id": "67a4329f",
   "metadata": {},
   "source": [
    "Наиболее популярные аккорды: мажорное/минорное трезвучия, мажорный/минорный септаккорды. Для определения мажорного/минорного необходимо от тоники взять ноту на 4/3 полутона выше и на 3/4 полутона выше найденной ноты. Для септаккордов берётся 4-ая нота на 4/3 выше предыдущей.\n",
    "\n",
    "# описан только случай когда тоника является самой низкой нотой (т.е. C-E-G и G-C-E оба являются До-мажором, но в списке указан только первый вариант)"
   ]
  },
  {
   "cell_type": "code",
   "execution_count": 243,
   "id": "60cd9d94",
   "metadata": {},
   "outputs": [],
   "source": [
    "major=[]\n",
    "minor=[]\n",
    "major7=[]\n",
    "minor7=[]\n",
    "for i in range(0,127-4-3-4):\n",
    "    major.append([i, i+4, i+4+3])\n",
    "    minor.append([i, i+3, i+3+4])\n",
    "    major7.append([i, i+4, i+4+3, i+4+3+4])\n",
    "    minor7.append([i, i+3, i+3+4, i+3+4+3])"
   ]
  },
  {
   "cell_type": "code",
   "execution_count": 244,
   "id": "a73e53c5",
   "metadata": {},
   "outputs": [
    {
     "data": {
      "text/plain": [
       "[0, 4, 7]"
      ]
     },
     "execution_count": 244,
     "metadata": {},
     "output_type": "execute_result"
    }
   ],
   "source": [
    "major[0]"
   ]
  },
  {
   "cell_type": "markdown",
   "id": "6eb8bbe4",
   "metadata": {},
   "source": [
    "Полученные на вход ноты преобразуются в аккорды"
   ]
  },
  {
   "cell_type": "code",
   "execution_count": 248,
   "id": "409ef199",
   "metadata": {},
   "outputs": [
    {
     "data": {
      "text/plain": [
       "{'res': {'notes': [{'on': 36},\n",
       "   {'on': 40},\n",
       "   {'on': 43},\n",
       "   {'on': 47},\n",
       "   {'sysex': 250},\n",
       "   {'off': 36},\n",
       "   {'off': 40},\n",
       "   {'off': 43},\n",
       "   {'off': 47},\n",
       "   {'on': 36},\n",
       "   {'on': 40},\n",
       "   {'on': 43},\n",
       "   {'on': 47},\n",
       "   {'sysex': 250},\n",
       "   {'off': 36},\n",
       "   {'off': 40},\n",
       "   {'off': 43},\n",
       "   {'off': 47},\n",
       "   {'on': 38},\n",
       "   {'on': 42},\n",
       "   {'on': 45},\n",
       "   {'on': 49},\n",
       "   {'sysex': 250},\n",
       "   {'off': 38},\n",
       "   {'off': 42},\n",
       "   {'off': 45},\n",
       "   {'off': 49},\n",
       "   {'on': 38},\n",
       "   {'on': 42},\n",
       "   {'on': 45},\n",
       "   {'on': 49},\n",
       "   {'sysex': 250},\n",
       "   {'off': 38},\n",
       "   {'off': 42},\n",
       "   {'off': 45},\n",
       "   {'off': 49},\n",
       "   {'on': 39},\n",
       "   {'on': 43},\n",
       "   {'on': 46},\n",
       "   {'on': 50},\n",
       "   {'sysex': 250},\n",
       "   {'off': 39},\n",
       "   {'off': 43},\n",
       "   {'off': 46},\n",
       "   {'off': 50},\n",
       "   {'on': 39},\n",
       "   {'on': 43},\n",
       "   {'on': 46},\n",
       "   {'on': 50},\n",
       "   {'sysex': 250},\n",
       "   {'off': 39},\n",
       "   {'off': 43},\n",
       "   {'off': 46},\n",
       "   {'off': 50},\n",
       "   {'on': 41},\n",
       "   {'on': 45},\n",
       "   {'on': 48},\n",
       "   {'on': 52},\n",
       "   {'sysex': 250},\n",
       "   {'off': 41},\n",
       "   {'off': 45},\n",
       "   {'off': 48},\n",
       "   {'off': 52},\n",
       "   {'on': 39},\n",
       "   {'on': 43},\n",
       "   {'on': 46},\n",
       "   {'on': 50},\n",
       "   {'sysex': 250},\n",
       "   {'off': 39},\n",
       "   {'off': 43},\n",
       "   {'off': 46},\n",
       "   {'off': 50},\n",
       "   {'on': 39},\n",
       "   {'on': 43},\n",
       "   {'on': 46},\n",
       "   {'on': 50},\n",
       "   {'sysex': 250},\n",
       "   {'off': 39},\n",
       "   {'off': 43},\n",
       "   {'off': 46},\n",
       "   {'off': 50},\n",
       "   {'on': 38},\n",
       "   {'on': 42},\n",
       "   {'on': 45},\n",
       "   {'on': 49},\n",
       "   {'sysex': 250},\n",
       "   {'off': 38},\n",
       "   {'off': 42},\n",
       "   {'off': 45},\n",
       "   {'off': 49},\n",
       "   {'on': 38},\n",
       "   {'on': 42},\n",
       "   {'on': 45},\n",
       "   {'on': 49},\n",
       "   {'sysex': 250},\n",
       "   {'off': 38},\n",
       "   {'off': 42},\n",
       "   {'off': 45},\n",
       "   {'off': 49},\n",
       "   {'on': 36},\n",
       "   {'on': 40},\n",
       "   {'on': 43},\n",
       "   {'on': 47},\n",
       "   {'sysex': 250},\n",
       "   {'off': 36},\n",
       "   {'off': 40},\n",
       "   {'off': 43},\n",
       "   {'off': 47},\n",
       "   {'on': 36},\n",
       "   {'on': 40},\n",
       "   {'on': 43},\n",
       "   {'on': 47},\n",
       "   {'sysex': 250},\n",
       "   {'off': 36},\n",
       "   {'off': 40},\n",
       "   {'off': 43},\n",
       "   {'off': 47},\n",
       "   {'on': 34},\n",
       "   {'on': 38},\n",
       "   {'on': 41},\n",
       "   {'on': 45},\n",
       "   {'sysex': 250},\n",
       "   {'off': 34},\n",
       "   {'off': 38},\n",
       "   {'off': 41},\n",
       "   {'off': 45},\n",
       "   {'on': 36},\n",
       "   {'on': 40},\n",
       "   {'on': 43},\n",
       "   {'on': 47},\n",
       "   {'sysex': 250},\n",
       "   {'off': 36},\n",
       "   {'off': 40},\n",
       "   {'off': 43},\n",
       "   {'off': 47},\n",
       "   {'on': 36},\n",
       "   {'on': 40},\n",
       "   {'on': 43},\n",
       "   {'on': 47},\n",
       "   {'sysex': 250},\n",
       "   {'off': 36},\n",
       "   {'off': 40},\n",
       "   {'off': 43},\n",
       "   {'off': 47}]}}"
      ]
     },
     "execution_count": 248,
     "metadata": {},
     "output_type": "execute_result"
    }
   ],
   "source": [
    "mid = mido.MidiFile()\n",
    "track = mido.MidiTrack()\n",
    "mid.tracks.append(track)\n",
    "\n",
    "for i in data.get('res').get('notes'):\n",
    "    for j in major7[i]:\n",
    "        track.append(mido.Message('note_on', note=j))\n",
    "    track.append(mido.Message('sysex', time=250))\n",
    "    for j in major7[i]:\n",
    "        track.append(mido.Message('note_off', note=j))\n",
    "\n",
    "mid.save('new_song_chords.mid')\n",
    "mid_to_json(mid)"
   ]
  },
  {
   "cell_type": "markdown",
   "id": "2ab2990a",
   "metadata": {},
   "source": [
    "Преобразование входных аккордов в MIDI и обратно"
   ]
  },
  {
   "cell_type": "code",
   "execution_count": 223,
   "id": "214aa89b",
   "metadata": {},
   "outputs": [
    {
     "data": {
      "text/plain": [
       "[[36, 40, 43, 47], [38, 42, 45, 49]]"
      ]
     },
     "execution_count": 223,
     "metadata": {},
     "output_type": "execute_result"
    }
   ],
   "source": [
    "data.get('res').get('chords')"
   ]
  },
  {
   "cell_type": "code",
   "execution_count": 249,
   "id": "e40bddb9",
   "metadata": {},
   "outputs": [
    {
     "data": {
      "text/plain": [
       "{'res': {'notes': [{'on': 36},\n",
       "   {'on': 40},\n",
       "   {'on': 43},\n",
       "   {'on': 47},\n",
       "   {'sysex': 250},\n",
       "   {'off': 36},\n",
       "   {'off': 40},\n",
       "   {'off': 43},\n",
       "   {'off': 47},\n",
       "   {'on': 38},\n",
       "   {'on': 42},\n",
       "   {'on': 45},\n",
       "   {'on': 49},\n",
       "   {'sysex': 250},\n",
       "   {'off': 38},\n",
       "   {'off': 42},\n",
       "   {'off': 45},\n",
       "   {'off': 49}]}}"
      ]
     },
     "execution_count": 249,
     "metadata": {},
     "output_type": "execute_result"
    }
   ],
   "source": [
    "mid = mido.MidiFile()\n",
    "track = mido.MidiTrack()\n",
    "mid.tracks.append(track)\n",
    "\n",
    "for i in data.get('res').get('chords'):\n",
    "    for j in i:\n",
    "        track.append(mido.Message('note_on', note=j))\n",
    "    track.append(mido.Message('sysex', time=250))\n",
    "    for j in i:\n",
    "        track.append(mido.Message('note_off', note=j))\n",
    "\n",
    "mid.save('USER_song_chords.mid')\n",
    "mid_to_json(mid)"
   ]
  },
  {
   "cell_type": "code",
   "execution_count": 225,
   "id": "e304e8e5",
   "metadata": {},
   "outputs": [
    {
     "data": {
      "text/plain": [
       "'{\"res\": {\"notes\": [36, 36, 38, 38, 39, 39, 41, 39, 39, 38, 38, 36, 36, 34, 36, 36], \"chords\": [[36, 40, 43, 47], [38, 42, 45, 49]], \"new_chords\": [[36, 40, 43], [36, 40, 43], [38, 42, 45], [38, 42, 45], [39, 43, 46], [39, 43, 46], [41, 45, 48], [39, 43, 46], [39, 43, 46], [38, 42, 45], [38, 42, 45], [36, 40, 43], [36, 40, 43], [34, 38, 41], [36, 40, 43], [36, 40, 43]]}}'"
      ]
     },
     "execution_count": 225,
     "metadata": {},
     "output_type": "execute_result"
    }
   ],
   "source": [
    "#new_data=copy.deepcopy(data)\n",
    "#\n",
    "#new_data.get('res')['new_chords']=[major[i] for i in data.get('res').get('notes')]\n",
    "#json.dumps(new_data)"
   ]
  },
  {
   "cell_type": "code",
   "execution_count": null,
   "id": "cb9f3572",
   "metadata": {},
   "outputs": [],
   "source": []
  },
  {
   "cell_type": "code",
   "execution_count": null,
   "id": "052470a1",
   "metadata": {},
   "outputs": [],
   "source": []
  },
  {
   "cell_type": "markdown",
   "id": "2dc69ae9",
   "metadata": {},
   "source": [
    "I — IV — V — V.\n",
    "I — I — IV — V.\n",
    "I — IV — I — V.\n",
    "I — IV — V — IV.\n",
    "\n",
    ".\n",
    ".\n",
    ".\n",
    "\n",
    "Блюзовая гармония\n",
    "\n",
    "I — I — I — I\n",
    "IV — IV — I — I\n",
    "V — IV — I — I\n",
    "\n",
    "C-C-C-C-F-F-C-C-G-F-C-C\n",
    "\n",
    "i i i i i+5 i+5 i i i+7 i+5 i i"
   ]
  },
  {
   "cell_type": "code",
   "execution_count": 226,
   "id": "f2df3c2d",
   "metadata": {},
   "outputs": [],
   "source": [
    "chord3_p=[0,5,7,7,0,0,5,7,0,5,0,7,0,5,7,5]\n",
    "blues_p=[0,0,0,0,5,5,0,0,7,5,0,0]"
   ]
  },
  {
   "cell_type": "markdown",
   "id": "147f3116",
   "metadata": {},
   "source": [
    "Построение нотной прогрессии от одной ноты"
   ]
  },
  {
   "cell_type": "code",
   "execution_count": 227,
   "id": "628a407b",
   "metadata": {},
   "outputs": [
    {
     "data": {
      "text/plain": [
       "{'res': {'notes': [{'on': 76},\n",
       "   {'off': 76},\n",
       "   {'on': 81},\n",
       "   {'off': 81},\n",
       "   {'on': 83},\n",
       "   {'off': 83},\n",
       "   {'on': 83},\n",
       "   {'off': 83},\n",
       "   {'on': 76},\n",
       "   {'off': 76},\n",
       "   {'on': 76},\n",
       "   {'off': 76},\n",
       "   {'on': 81},\n",
       "   {'off': 81},\n",
       "   {'on': 83},\n",
       "   {'off': 83},\n",
       "   {'on': 76},\n",
       "   {'off': 76},\n",
       "   {'on': 81},\n",
       "   {'off': 81},\n",
       "   {'on': 76},\n",
       "   {'off': 76},\n",
       "   {'on': 83},\n",
       "   {'off': 83},\n",
       "   {'on': 76},\n",
       "   {'off': 76},\n",
       "   {'on': 81},\n",
       "   {'off': 81},\n",
       "   {'on': 83},\n",
       "   {'off': 83},\n",
       "   {'on': 81},\n",
       "   {'off': 81}]}}"
      ]
     },
     "execution_count": 227,
     "metadata": {},
     "output_type": "execute_result"
    }
   ],
   "source": [
    "mid = mido.MidiFile()\n",
    "track = mido.MidiTrack()\n",
    "mid.tracks.append(track)\n",
    "\n",
    "for i in [76]:\n",
    "    for j in chord3_p:\n",
    "        track.append(mido.Message('note_on', note=i+j))\n",
    "        track.append(mido.Message('note_off', note=i+j, time=240))\n",
    "\n",
    "mid.save('new_song_progression.mid')\n",
    "mid_to_json(mid)"
   ]
  },
  {
   "cell_type": "markdown",
   "id": "801549a6",
   "metadata": {},
   "source": [
    "Применение квинтового круга для определения наиболее созвучных аккордов"
   ]
  },
  {
   "cell_type": "code",
   "execution_count": 228,
   "id": "426e3d9a",
   "metadata": {},
   "outputs": [
    {
     "name": "stdout",
     "output_type": "stream",
     "text": [
      "[0, 7, 2, 9, 4, 11, 6, 1, 8, 3, 10, 5]\n"
     ]
    }
   ],
   "source": [
    "circle_of_fifths=[0]\n",
    "for i in range(0, 11):\n",
    "    circle_of_fifths.append((circle_of_fifths[-1]+7)%12)\n",
    "print(circle_of_fifths)"
   ]
  },
  {
   "cell_type": "code",
   "execution_count": 229,
   "id": "71f0b102",
   "metadata": {},
   "outputs": [
    {
     "name": "stdout",
     "output_type": "stream",
     "text": [
      "5 0 7\n",
      "0 7 2\n",
      "7 2 9\n",
      "2 9 4\n",
      "9 4 11\n",
      "4 11 6\n",
      "11 6 1\n",
      "6 1 8\n",
      "1 8 3\n",
      "8 3 10\n",
      "3 10 5\n",
      "10 5 0\n"
     ]
    }
   ],
   "source": [
    "for i in range(0,len(circle_of_fifths)):\n",
    "    print(circle_of_fifths[i-1],circle_of_fifths[i],circle_of_fifths[(i+1)%len(circle_of_fifths)])"
   ]
  },
  {
   "cell_type": "code",
   "execution_count": 230,
   "id": "43d82e82",
   "metadata": {},
   "outputs": [
    {
     "name": "stdout",
     "output_type": "stream",
     "text": [
      "[10, 14, 17] [5, 9, 12] [0, 4, 7]\n",
      "[7, 10, 14] [2, 5, 9] [9, 12, 16]\n"
     ]
    }
   ],
   "source": [
    "print(major[circle_of_fifths[i-1]],major[circle_of_fifths[i]],major[circle_of_fifths[(i+1)%len(circle_of_fifths)]])\n",
    "print(minor[circle_of_fifths[i-1-9]],minor[circle_of_fifths[i-9]],minor[circle_of_fifths[i+1-9]])"
   ]
  },
  {
   "cell_type": "markdown",
   "id": "f53f4053",
   "metadata": {},
   "source": [
    "Перебор близких аккордов по одной ноте (тональности)"
   ]
  },
  {
   "cell_type": "code",
   "execution_count": 231,
   "id": "79bf1080",
   "metadata": {},
   "outputs": [
    {
     "data": {
      "text/plain": [
       "{'res': {'notes': [{'on': 65},\n",
       "   {'on': 69},\n",
       "   {'on': 72},\n",
       "   {'sysex': 500},\n",
       "   {'off': 65},\n",
       "   {'off': 69},\n",
       "   {'off': 72},\n",
       "   {'on': 60},\n",
       "   {'on': 64},\n",
       "   {'on': 67},\n",
       "   {'sysex': 500},\n",
       "   {'off': 60},\n",
       "   {'off': 64},\n",
       "   {'off': 67},\n",
       "   {'on': 67},\n",
       "   {'on': 71},\n",
       "   {'on': 74},\n",
       "   {'sysex': 500},\n",
       "   {'off': 67},\n",
       "   {'off': 71},\n",
       "   {'off': 74},\n",
       "   {'on': 64},\n",
       "   {'on': 67},\n",
       "   {'on': 71},\n",
       "   {'sysex': 500},\n",
       "   {'off': 64},\n",
       "   {'off': 67},\n",
       "   {'off': 71},\n",
       "   {'on': 69},\n",
       "   {'on': 72},\n",
       "   {'on': 76},\n",
       "   {'sysex': 500},\n",
       "   {'off': 69},\n",
       "   {'off': 72},\n",
       "   {'off': 76},\n",
       "   {'on': 62},\n",
       "   {'on': 65},\n",
       "   {'on': 69},\n",
       "   {'sysex': 500},\n",
       "   {'off': 62},\n",
       "   {'off': 65},\n",
       "   {'off': 69}]}}"
      ]
     },
     "execution_count": 231,
     "metadata": {},
     "output_type": "execute_result"
    }
   ],
   "source": [
    "mid = mido.MidiFile()\n",
    "track = mido.MidiTrack()\n",
    "mid.tracks.append(track)\n",
    "\n",
    "for i in [60]:\n",
    "    for j in [major[circle_of_fifths[i%12-1]],major[circle_of_fifths[i%12]],major[circle_of_fifths[(i%12+1)%len(circle_of_fifths)]],\n",
    "              minor[circle_of_fifths[i%12+1-9]],minor[circle_of_fifths[i%12-9]],minor[circle_of_fifths[i%12-1-9]]]:\n",
    "        for k in j:\n",
    "            track.append(mido.Message('note_on', note=i+k))\n",
    "        track.append(mido.Message('sysex', time=500))\n",
    "        for k in j:    \n",
    "            track.append(mido.Message('note_off', note=i+k))\n",
    "\n",
    "mid.save('new_circle_progression.mid')\n",
    "mid_to_json(mid)"
   ]
  },
  {
   "cell_type": "markdown",
   "id": "072d25d0",
   "metadata": {},
   "source": [
    "# тональность определяется первой нотой в данных пользователя, а количество нот мелодии до смены аккорда задано числом"
   ]
  },
  {
   "cell_type": "code",
   "execution_count": 232,
   "id": "9ecfeead",
   "metadata": {},
   "outputs": [],
   "source": [
    "#TODO\n",
    "def get_melody_notes_per_chord():\n",
    "    return 4"
   ]
  },
  {
   "cell_type": "code",
   "execution_count": 233,
   "id": "e9768614",
   "metadata": {},
   "outputs": [],
   "source": [
    "def get_key(notes):\n",
    "    return notes[0]"
   ]
  },
  {
   "cell_type": "code",
   "execution_count": 251,
   "id": "f5fea885",
   "metadata": {},
   "outputs": [],
   "source": [
    "json_string = \"\"\"\n",
    "{\n",
    "    \"res\": {\n",
    "        \"notes\": [\n",
    "            60,\n",
    "            60,\n",
    "            67,\n",
    "            67,\n",
    "            69,\n",
    "            69,\n",
    "            67,\n",
    "            65,\n",
    "            65,\n",
    "            64,\n",
    "            64,\n",
    "            62,\n",
    "            62,\n",
    "            60\n",
    "        ]\n",
    "    }\n",
    "}\n",
    "\"\"\"\n",
    " \n",
    "data = json.loads(json_string)"
   ]
  },
  {
   "cell_type": "markdown",
   "id": "cc660a0b",
   "metadata": {},
   "source": [
    "Построение аккордовой прогрессии по мелодии (аккордом берётся мажорный аккорд каждой 4-ой ноты мелодии)"
   ]
  },
  {
   "cell_type": "code",
   "execution_count": 255,
   "id": "dbff772f",
   "metadata": {},
   "outputs": [
    {
     "data": {
      "text/plain": [
       "{'res': {'notes': [{'on': 36},\n",
       "   {'on': 40},\n",
       "   {'on': 43},\n",
       "   {'on': 60},\n",
       "   {'sysex': 500},\n",
       "   {'off': 60},\n",
       "   {'on': 60},\n",
       "   {'sysex': 500},\n",
       "   {'off': 60},\n",
       "   {'on': 67},\n",
       "   {'sysex': 500},\n",
       "   {'off': 67},\n",
       "   {'on': 67},\n",
       "   {'sysex': 500},\n",
       "   {'off': 67},\n",
       "   {'off': 36},\n",
       "   {'off': 40},\n",
       "   {'off': 43},\n",
       "   {'on': 45},\n",
       "   {'on': 49},\n",
       "   {'on': 52},\n",
       "   {'on': 69},\n",
       "   {'sysex': 500},\n",
       "   {'off': 69},\n",
       "   {'on': 69},\n",
       "   {'sysex': 500},\n",
       "   {'off': 69},\n",
       "   {'on': 67},\n",
       "   {'sysex': 500},\n",
       "   {'off': 67},\n",
       "   {'on': 65},\n",
       "   {'sysex': 500},\n",
       "   {'off': 65},\n",
       "   {'off': 45},\n",
       "   {'off': 49},\n",
       "   {'off': 52},\n",
       "   {'on': 41},\n",
       "   {'on': 45},\n",
       "   {'on': 48},\n",
       "   {'on': 65},\n",
       "   {'sysex': 500},\n",
       "   {'off': 65},\n",
       "   {'on': 64},\n",
       "   {'sysex': 500},\n",
       "   {'off': 64},\n",
       "   {'on': 64},\n",
       "   {'sysex': 500},\n",
       "   {'off': 64},\n",
       "   {'on': 62},\n",
       "   {'sysex': 500},\n",
       "   {'off': 62},\n",
       "   {'off': 41},\n",
       "   {'off': 45},\n",
       "   {'off': 48},\n",
       "   {'on': 38},\n",
       "   {'on': 42},\n",
       "   {'on': 45},\n",
       "   {'on': 62},\n",
       "   {'sysex': 500},\n",
       "   {'off': 62},\n",
       "   {'on': 60},\n",
       "   {'sysex': 500},\n",
       "   {'off': 60},\n",
       "   {'off': 38},\n",
       "   {'off': 42},\n",
       "   {'off': 45}]}}"
      ]
     },
     "execution_count": 255,
     "metadata": {},
     "output_type": "execute_result"
    }
   ],
   "source": [
    "mid = mido.MidiFile()\n",
    "track = mido.MidiTrack()\n",
    "mid.tracks.append(track)\n",
    "\n",
    "notes = data.get('res').get('notes')\n",
    "notes_cycle = get_melody_notes_per_chord()\n",
    "notes_cycle_len = len(notes)//notes_cycle+1 #4\n",
    "for i in range(0,notes_cycle_len):\n",
    "    start=i*notes_cycle\n",
    "    end=(i+1)*notes_cycle\n",
    "    if end > len(notes):\n",
    "        end=len(notes)\n",
    "    cycle_notes=notes[start:end]\n",
    "    melody_key = get_key(cycle_notes)\n",
    "    for k in major[melody_key]:\n",
    "        track.append(mido.Message('note_on', note=k-24))\n",
    "    for j in cycle_notes:\n",
    "        track.append(mido.Message('note_on', note=j))\n",
    "        track.append(mido.Message('sysex', time=500))\n",
    "        track.append(mido.Message('note_off', note=j))\n",
    "    for k in major[melody_key]:\n",
    "        track.append(mido.Message('note_off', note=k-24))\n",
    "\n",
    "mid.save('new_accompany_melody_progression.mid')\n",
    "mid_to_json(mid)"
   ]
  },
  {
   "cell_type": "markdown",
   "id": "394a2455",
   "metadata": {},
   "source": [
    "Построение аккордовой прогрессии по мелодии (аккордом берётся рандомный созвучный аккорд тональности мелодии)"
   ]
  },
  {
   "cell_type": "code",
   "execution_count": 257,
   "id": "94b24f26",
   "metadata": {},
   "outputs": [
    {
     "name": "stdout",
     "output_type": "stream",
     "text": [
      "[9, 12, 16]\n",
      "[0, 4, 7]\n",
      "[9, 12, 16]\n",
      "[0, 4, 7]\n"
     ]
    }
   ],
   "source": [
    "import random\n",
    "\n",
    "mid = mido.MidiFile()\n",
    "track = mido.MidiTrack()\n",
    "mid.tracks.append(track)\n",
    "\n",
    "notes = data.get('res').get('notes')\n",
    "notes_cycle = get_melody_notes_per_chord()\n",
    "notes_cycle_len = len(notes)//notes_cycle+1 #4\n",
    "melody_key = get_key(notes)\n",
    "for i in range(0,notes_cycle_len):\n",
    "    start=i*notes_cycle\n",
    "    end=(i+1)*notes_cycle\n",
    "    if end > len(notes):\n",
    "        end=len(notes)\n",
    "    cycle_notes=notes[start:end]\n",
    "    random_chord = random.choice([major[circle_of_fifths[melody_key%12]],\n",
    "              major[circle_of_fifths[melody_key%12-1]],\n",
    "              major[circle_of_fifths[(melody_key%12+1)%len(circle_of_fifths)]],\n",
    "              minor[circle_of_fifths[melody_key%12+1-9]],\n",
    "              minor[circle_of_fifths[melody_key%12-9]],\n",
    "              minor[circle_of_fifths[melody_key%12-1-9]]])\n",
    "    print(random_chord)\n",
    "    for k in random_chord:\n",
    "        track.append(mido.Message('note_on', note=melody_key+k-24))\n",
    "    for j in cycle_notes:\n",
    "        track.append(mido.Message('note_on', note=j))\n",
    "        track.append(mido.Message('sysex', time=500))\n",
    "        track.append(mido.Message('note_off', note=j))\n",
    "    for k in random_chord:\n",
    "        track.append(mido.Message('note_off', note=melody_key+k-24))\n",
    "\n",
    "mid.save('new_accompany_melody_circle_progression.mid')"
   ]
  },
  {
   "cell_type": "code",
   "execution_count": 258,
   "id": "41140734",
   "metadata": {},
   "outputs": [
    {
     "data": {
      "text/plain": [
       "{'res': {'notes': [{'on': 45},\n",
       "   {'on': 48},\n",
       "   {'on': 52},\n",
       "   {'on': 60},\n",
       "   {'sysex': 500},\n",
       "   {'off': 60},\n",
       "   {'on': 60},\n",
       "   {'sysex': 500},\n",
       "   {'off': 60},\n",
       "   {'on': 67},\n",
       "   {'sysex': 500},\n",
       "   {'off': 67},\n",
       "   {'on': 67},\n",
       "   {'sysex': 500},\n",
       "   {'off': 67},\n",
       "   {'off': 45},\n",
       "   {'off': 48},\n",
       "   {'off': 52},\n",
       "   {'on': 36},\n",
       "   {'on': 40},\n",
       "   {'on': 43},\n",
       "   {'on': 69},\n",
       "   {'sysex': 500},\n",
       "   {'off': 69},\n",
       "   {'on': 69},\n",
       "   {'sysex': 500},\n",
       "   {'off': 69},\n",
       "   {'on': 67},\n",
       "   {'sysex': 500},\n",
       "   {'off': 67},\n",
       "   {'on': 65},\n",
       "   {'sysex': 500},\n",
       "   {'off': 65},\n",
       "   {'off': 36},\n",
       "   {'off': 40},\n",
       "   {'off': 43},\n",
       "   {'on': 45},\n",
       "   {'on': 48},\n",
       "   {'on': 52},\n",
       "   {'on': 65},\n",
       "   {'sysex': 500},\n",
       "   {'off': 65},\n",
       "   {'on': 64},\n",
       "   {'sysex': 500},\n",
       "   {'off': 64},\n",
       "   {'on': 64},\n",
       "   {'sysex': 500},\n",
       "   {'off': 64},\n",
       "   {'on': 62},\n",
       "   {'sysex': 500},\n",
       "   {'off': 62},\n",
       "   {'off': 45},\n",
       "   {'off': 48},\n",
       "   {'off': 52},\n",
       "   {'on': 36},\n",
       "   {'on': 40},\n",
       "   {'on': 43},\n",
       "   {'on': 62},\n",
       "   {'sysex': 500},\n",
       "   {'off': 62},\n",
       "   {'on': 60},\n",
       "   {'sysex': 500},\n",
       "   {'off': 60},\n",
       "   {'off': 36},\n",
       "   {'off': 40},\n",
       "   {'off': 43}]}}"
      ]
     },
     "execution_count": 258,
     "metadata": {},
     "output_type": "execute_result"
    }
   ],
   "source": [
    "mid_to_json(mid)"
   ]
  },
  {
   "cell_type": "code",
   "execution_count": null,
   "id": "2c402965",
   "metadata": {},
   "outputs": [],
   "source": []
  },
  {
   "cell_type": "code",
   "execution_count": null,
   "id": "bdf41bac",
   "metadata": {},
   "outputs": [],
   "source": []
  }
 ],
 "metadata": {
  "kernelspec": {
   "display_name": "Python 3 (ipykernel)",
   "language": "python",
   "name": "python3"
  },
  "language_info": {
   "codemirror_mode": {
    "name": "ipython",
    "version": 3
   },
   "file_extension": ".py",
   "mimetype": "text/x-python",
   "name": "python",
   "nbconvert_exporter": "python",
   "pygments_lexer": "ipython3",
   "version": "3.9.16"
  }
 },
 "nbformat": 4,
 "nbformat_minor": 5
}
